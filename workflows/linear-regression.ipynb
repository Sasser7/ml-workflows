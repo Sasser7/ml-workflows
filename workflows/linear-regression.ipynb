{
 "cells": [
  {
   "cell_type": "markdown",
   "metadata": {},
   "source": [
    "<div align=center>\n",
    "\n",
    "# Linear regression workflow 📈\n",
    "\n",
    "$$ Y = m X + b $$\n",
    "\n",
    "|Symbol|Description|\n",
    "|-|-|\n",
    "|$Y$|Result|\n",
    "|$m$|Weights|\n",
    "|$X$|Function argument|\n",
    "|$b$|Bias|\n",
    "\n",
    "</div>"
   ]
  },
  {
   "cell_type": "markdown",
   "metadata": {
    "jp-MarkdownHeadingCollapsed": true
   },
   "source": [
    "## Check if the kernel is up and working ✨"
   ]
  },
  {
   "cell_type": "code",
   "execution_count": null,
   "metadata": {},
   "outputs": [],
   "source": [
    "print(\"Kernel works!\")"
   ]
  },
  {
   "cell_type": "markdown",
   "metadata": {},
   "source": [
    "### Import required packages 📦"
   ]
  },
  {
   "cell_type": "code",
   "execution_count": 118,
   "metadata": {},
   "outputs": [],
   "source": [
    "from safetensors.torch import save_file\n",
    "from safetensors.torch import safe_open\n",
    "import matplotlib.pyplot as plt\n",
    "from pathlib import Path\n",
    "import pandas as pd\n",
    "import torch"
   ]
  },
  {
   "cell_type": "markdown",
   "metadata": {},
   "source": [
    "## Setup the workflow ⚒️\n",
    "<div align=center>\n",
    "\n",
    "![pytorch_workflow](pytorch_workflow.png)\n",
    "\n",
    "</div>"
   ]
  },
  {
   "cell_type": "markdown",
   "metadata": {},
   "source": [
    "### Configuration for optimized computation and plotting"
   ]
  },
  {
   "cell_type": "code",
   "execution_count": 119,
   "metadata": {},
   "outputs": [],
   "source": [
    "# Set float16 as dtype for more optimized computation\n",
    "torch.set_default_dtype(torch.half)\n",
    "\n",
    "# Set the plot figsize\n",
    "plot_figsize = (12, 8)\n",
    "\n",
    "# Set the global variables\n",
    "train_data_color = \"green\"\n",
    "val_data_color = \"orange\"\n",
    "pred_color = \"red\""
   ]
  },
  {
   "cell_type": "markdown",
   "metadata": {
    "jp-MarkdownHeadingCollapsed": true
   },
   "source": [
    "### 1. Get data ready 🔢"
   ]
  },
  {
   "cell_type": "markdown",
   "metadata": {
    "jp-MarkdownHeadingCollapsed": true
   },
   "source": [
    "#### Define a plotting functions"
   ]
  },
  {
   "cell_type": "code",
   "execution_count": 120,
   "metadata": {},
   "outputs": [],
   "source": [
    "# Define data plotting function\n",
    "def plot_data(train_data, val_data, train_labels, val_labels, title=\"Data plot\", predictions=None):\n",
    "    \n",
    "    # Set the font to be JetBrains Mono\n",
    "    font_path = Path(\"../fonts/JetBrainsMono-Regular.ttf\")\n",
    "\n",
    "    # Set the dark mode\n",
    "    plt.style.use('dark_background')\n",
    "\n",
    "    # Create the plot\n",
    "    plt.figure(figsize=plot_figsize)\n",
    "    plt.plot(train_data, train_labels, c=train_data_color, label=\"Training data\")\n",
    "    plt.scatter(train_data, train_labels, c=train_data_color)\n",
    "\n",
    "    plt.plot(val_data, val_labels, c=val_data_color, label=\"Validation data\")\n",
    "    plt.scatter(val_data, val_labels, c=val_data_color)\n",
    "\n",
    "    if predictions is not None:\n",
    "        plt.plot(val_data, predictions, c=pred_color, label=\"Model predictions\")\n",
    "        plt.scatter(val_data, predictions, c=pred_color)\n",
    "\n",
    "    # Setting up axes\n",
    "    plt.title(title, font=font_path, fontsize=16)\n",
    "    plt.xlabel('X', font=font_path, fontsize=14)\n",
    "    plt.ylabel('Y', font=font_path, fontsize=14)\n",
    "\n",
    "    # Add grid and axes lines\n",
    "    plt.axhline(0, color='white', lw=0.5, ls='--')\n",
    "    plt.axvline(0, color='white', lw=0.5, ls='--')\n",
    "    plt.grid(color='gray', linestyle='--', linewidth=0.5)\n",
    "\n",
    "    # Customize ticks\n",
    "    plt.xticks(font=font_path)\n",
    "    plt.yticks(font=font_path)\n",
    "\n",
    "    # Add a legend\n",
    "    plt.legend(prop=font_path)"
   ]
  },
  {
   "cell_type": "code",
   "execution_count": 121,
   "metadata": {},
   "outputs": [],
   "source": [
    "# Define loss curves plotting function\n",
    "def plot_loss_curves(train_loss, val_loss, epoch_count, title=\"Loss curves plot\"):\n",
    "    \n",
    "    # Set the font to be JetBrains Mono\n",
    "    font_path = Path(\"../fonts/JetBrainsMono-Regular.ttf\")\n",
    "\n",
    "    # Set the dark mode\n",
    "    plt.style.use('dark_background')\n",
    "\n",
    "    # Create the plot\n",
    "    plt.figure(figsize=plot_figsize)\n",
    "    plt.plot(epoch_count, train_loss, c=train_data_color, label=\"Training loss\")\n",
    "    plt.plot(epoch_count, val_loss, c=val_data_color, label=\"Validation loss\")\n",
    "\n",
    "    # Setting up axes\n",
    "    plt.title(title, font=font_path, fontsize=16)\n",
    "    plt.xlabel('X', font=font_path, fontsize=14)\n",
    "    plt.ylabel('Y', font=font_path, fontsize=14)\n",
    "\n",
    "    # Add grid and axes lines\n",
    "    plt.axhline(0, color='white', lw=0.5, ls='--')\n",
    "    plt.axvline(0, color='white', lw=0.5, ls='--')\n",
    "    plt.grid(color='gray', linestyle='--', linewidth=0.5)\n",
    "\n",
    "    # Customize ticks\n",
    "    plt.xticks(font=font_path)\n",
    "    plt.yticks(font=font_path)\n",
    "\n",
    "    # Add a legend\n",
    "    plt.legend(prop=font_path)"
   ]
  },
  {
   "cell_type": "markdown",
   "metadata": {
    "jp-MarkdownHeadingCollapsed": true
   },
   "source": [
    "#### Generate example data"
   ]
  },
  {
   "cell_type": "code",
   "execution_count": 122,
   "metadata": {},
   "outputs": [],
   "source": [
    "# Set the random seed for reproducibility\n",
    "torch.manual_seed(42)\n",
    "\n",
    "# Number of samples\n",
    "num_samples = 32\n",
    "\n",
    "# Generate random input features (x) and corresponding labels (y)\n",
    "X = torch.linspace(0, 1, num_samples).unsqueeze(1)  # Shape (25, 1)\n",
    "# Let's assume a linear relationship: y = 0.7 * x + 0.3\n",
    "y = 0.7 * X + 0.3\n",
    "\n",
    "data_df = pd.DataFrame({'X': X.numpy().flatten(), 'y': y.numpy().flatten()})\n",
    "\n",
    "# Create train/test split\n",
    "train_split = int(0.75 * len(X))  # 50% of data used for training set, 50% for testing\n",
    "X_train, y_train = X[:train_split], y[:train_split]\n",
    "X_val, y_val = X[train_split:], y[train_split:]\n",
    "\n",
    "# Convert to pandas DataFrame\n",
    "train_df = pd.DataFrame({'X': X_train.numpy().flatten(), 'y': y_train.numpy().flatten()})\n",
    "test_df = pd.DataFrame({'X': X_val.numpy().flatten(), 'y': y_val.numpy().flatten()})"
   ]
  },
  {
   "cell_type": "markdown",
   "metadata": {
    "jp-MarkdownHeadingCollapsed": true
   },
   "source": [
    "### 2. Build a model ⚒️"
   ]
  },
  {
   "cell_type": "markdown",
   "metadata": {
    "jp-MarkdownHeadingCollapsed": true
   },
   "source": [
    "#### Build a model class"
   ]
  },
  {
   "cell_type": "code",
   "execution_count": 123,
   "metadata": {},
   "outputs": [],
   "source": [
    "class LinearRegressionModel(torch.nn.Module):\n",
    "    def __init__(self):\n",
    "        super().__init__()\n",
    "        self.linear_layer = torch.nn.Linear(in_features=1, out_features=1)\n",
    "    def forward(self, x: torch.Tensor) -> torch.Tensor:\n",
    "        return self.linear_layer(x)"
   ]
  },
  {
   "cell_type": "markdown",
   "metadata": {
    "jp-MarkdownHeadingCollapsed": true
   },
   "source": [
    "#### Build a training and validation loops"
   ]
  },
  {
   "cell_type": "code",
   "execution_count": null,
   "metadata": {},
   "outputs": [],
   "source": [
    "class ConsoleColor:\n",
    "    RED = '\\033[91m'\n",
    "    ORANGE = '\\033[93m'\n",
    "    GREEN = '\\033[92m'\n",
    "    RESET = '\\033[0m'\n",
    "\n",
    "# Initialize model, loss function, optimizer, and learning rate scheduler\n",
    "model = LinearRegressionModel()\n",
    "loss_function = torch.nn.L1Loss()\n",
    "optimizer = torch.optim.Adam(model.parameters(), lr=0.1)\n",
    "learning_rate_scheduler = torch.optim.lr_scheduler.ReduceLROnPlateau(optimizer, mode='min', factor=0.5, patience=10)\n",
    "\n",
    "# Check if GPU is available\n",
    "if torch.cuda.is_available():\n",
    "    print(\"GPUs are available!\")\n",
    "    print(\"Amount of available GPUs:\", torch.cuda.device_count())\n",
    "    for i in range(torch.cuda.device_count()):\n",
    "        print(f\"GPU {i} name:\", torch.cuda.get_device_name(i))\n",
    "    model.to(\"cuda\")\n",
    "else:\n",
    "    print(\"GPU is not available. Will use CPU instead\")\n",
    "\n",
    "num_epochs = 2**7\n",
    "log_interval = max(1, num_epochs // 10000)\n",
    "loss_thresholds = [0.01, 0.1]  # 95% and 50% thresholds\n",
    "train_loss_history = []\n",
    "val_loss_history = []\n",
    "\n",
    "for epoch in range(num_epochs):\n",
    "    # Training Loop\n",
    "    model.train() # Set the model to training mode\n",
    "\n",
    "    # Compute loss on training data\n",
    "    train_loss = loss_function(model(X_train), y_train)  # Assuming X_train and y_train are defined\n",
    "    \n",
    "    optimizer.zero_grad()  # Clear gradients\n",
    "    train_loss.backward()  # Backpropagation\n",
    "    optimizer.step()  # Update weights\n",
    "    learning_rate_scheduler.step(train_loss.item())  # Adjust learning rate based on train loss\n",
    "\n",
    "    # Color assignment based on loss\n",
    "    if train_loss.item() < loss_thresholds[0]:\n",
    "        loss_color = ConsoleColor.GREEN\n",
    "    elif train_loss.item() < loss_thresholds[1]:\n",
    "        loss_color = ConsoleColor.ORANGE\n",
    "    else:\n",
    "        loss_color = ConsoleColor.RED\n",
    "\n",
    "    # Validation Loop\n",
    "    model.eval()  # Set the model to evaluation mode\n",
    "    with torch.inference_mode():  # Disable gradient tracking\n",
    "        val_loss = loss_function(model(X_val), y_val)  # Assuming X_val and y_val are defined\n",
    "        train_loss_history.append(train_loss.item())\n",
    "        val_loss_history.append(val_loss.item())\n",
    "\n",
    "    if epoch % log_interval == 0:\n",
    "        print(f\"Epoch: {epoch} ({(epoch + 1) / num_epochs * 100:.2f}% complete)\"\n",
    "            f\" | Training Loss: {loss_color}{train_loss.item():.4f}{ConsoleColor.RESET}\"\n",
    "            f\" | Validation Loss: {loss_color}{val_loss.item():.4f}{ConsoleColor.RESET}\")\n",
    "\n",
    "plot_loss_curves(train_loss_history, val_loss_history, range(num_epochs))"
   ]
  },
  {
   "cell_type": "markdown",
   "metadata": {
    "jp-MarkdownHeadingCollapsed": true
   },
   "source": [
    "### 3. Save a model 💾"
   ]
  },
  {
   "cell_type": "code",
   "execution_count": 125,
   "metadata": {},
   "outputs": [],
   "source": [
    "model_path = Path(\"../models/linreg.safetensors\")\n",
    "model_path.parent.mkdir(parents=True, exist_ok=True)\n",
    "\n",
    "save_file(model.state_dict(), model_path)"
   ]
  },
  {
   "cell_type": "markdown",
   "metadata": {
    "jp-MarkdownHeadingCollapsed": true
   },
   "source": [
    "### 4. (Re)load a model 🔃"
   ]
  },
  {
   "cell_type": "code",
   "execution_count": 126,
   "metadata": {},
   "outputs": [],
   "source": [
    "tensors = {}\n",
    "with safe_open(model_path, framework=\"pt\") as f:\n",
    "    for k in f.keys():\n",
    "        tensors[k] = f.get_tensor(k)\n",
    "\n",
    "for name, tensor in tensors.items():\n",
    "    if hasattr(model, name):\n",
    "        setattr(model, name, torch.nn.Parameter(tensor))"
   ]
  },
  {
   "cell_type": "markdown",
   "metadata": {},
   "source": [
    "### 5. Plot model prediction performance ✨"
   ]
  },
  {
   "cell_type": "code",
   "execution_count": null,
   "metadata": {},
   "outputs": [],
   "source": [
    "with torch.inference_mode():\n",
    "    y_preds = model(X_val)\n",
    "plot_data(X_train, X_val, y_train, y_val, \"Model performance\", y_preds)"
   ]
  }
 ],
 "metadata": {
  "kernelspec": {
   "display_name": "Python 3 (ipykernel)",
   "language": "python",
   "name": "python3"
  },
  "language_info": {
   "codemirror_mode": {
    "name": "ipython",
    "version": 3
   },
   "file_extension": ".py",
   "mimetype": "text/x-python",
   "name": "python",
   "nbconvert_exporter": "python",
   "pygments_lexer": "ipython3",
   "version": "3.12.7"
  }
 },
 "nbformat": 4,
 "nbformat_minor": 4
}
