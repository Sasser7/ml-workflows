{
 "cells": [
  {
   "cell_type": "markdown",
   "metadata": {},
   "source": [
    "<div align=center>\n",
    "\n",
    "# Binary classification workflow 📊\n",
    "\n",
    "</div>"
   ]
  },
  {
   "cell_type": "markdown",
   "metadata": {},
   "source": [
    "### Import required packages 📦"
   ]
  },
  {
   "cell_type": "code",
   "execution_count": null,
   "metadata": {},
   "outputs": [],
   "source": [
    "from safetensors.torch import save_file\n",
    "from safetensors.torch import safe_open\n",
    "import matplotlib.pyplot as plt\n",
    "from pathlib import Path\n",
    "import pandas as pd\n",
    "import torch"
   ]
  },
  {
   "cell_type": "markdown",
   "metadata": {},
   "source": [
    "### Configuration for optimized computation and plotting"
   ]
  },
  {
   "cell_type": "code",
   "execution_count": null,
   "metadata": {},
   "outputs": [],
   "source": [
    "# Set float16 as dtype for more optimized computation\n",
    "torch.set_default_dtype(torch.half)\n",
    "\n",
    "# Set the plot figsize\n",
    "plot_figsize = (12, 8)\n",
    "\n",
    "# Set the global variables\n",
    "train_data_color = \"green\"\n",
    "val_data_color = \"orange\"\n",
    "pred_color = \"red\""
   ]
  },
  {
   "cell_type": "markdown",
   "metadata": {},
   "source": [
    "### 1. Get data ready"
   ]
  },
  {
   "cell_type": "markdown",
   "metadata": {},
   "source": [
    "#### Define plotting functions"
   ]
  },
  {
   "cell_type": "code",
   "execution_count": null,
   "metadata": {},
   "outputs": [],
   "source": [
    "# Define data plotting function\n",
    "def plot_data(train_data, val_data, train_labels, val_labels, title=\"Data plot\"):\n",
    "    # Set the font to be JetBrains Mono\n",
    "    font_path = Path(\"../fonts/JetBrainsMono-Regular.ttf\")\n",
    "\n",
    "    # Set the dark mode\n",
    "    plt.style.use('dark_background')\n",
    "\n",
    "    # Create the plot\n",
    "    plt.figure(figsize=plot_figsize)\n",
    "    plt.scatter(train_data, train_labels, c=train_data_color)\n",
    "    plt.plot(train_data, train_labels, c=train_data_color)\n",
    "\n",
    "    plt.scatter(val_data, val_labels, c=val_data_color)\n",
    "    plt.plot(val_data, val_labels, c=val_data_color)\n",
    "    \n",
    "    # Setting up axes\n",
    "    plt.title(title, font=font_path, fontsize=16)\n",
    "    plt.xlabel('X', font=font_path, fontsize=14)\n",
    "    plt.ylabel('Y', font=font_path, fontsize=14)\n",
    "\n",
    "    # Customize ticks\n",
    "    plt.yticks([0, 1], ['Not odd', 'Odd'])"
   ]
  },
  {
   "cell_type": "markdown",
   "metadata": {},
   "source": [
    "#### Generate example data"
   ]
  },
  {
   "cell_type": "code",
   "execution_count": null,
   "metadata": {},
   "outputs": [],
   "source": [
    "# Create the dictionary\n",
    "data_dict = {i: (i % 2 == 0) for i in range(51)}\n",
    "\n",
    "# Convert the dictionary to a list of tuples\n",
    "data_items = list(data_dict.items())\n",
    "\n",
    "# Set the size of the training set\n",
    "train_size = int(len(data_items) * 0.8)\n",
    "\n",
    "# Split into training and validation data\n",
    "train_data = data_items[:train_size]\n",
    "val_data = data_items[train_size:]\n",
    "\n",
    "# Create X and y for the training set\n",
    "X_train = [item[0] for item in train_data]  # Numbers\n",
    "y_train = [item[1] for item in train_data]  # Labels\n",
    "\n",
    "# Create X and y for the validation set\n",
    "X_val = [item[0] for item in val_data]      # Numbers\n",
    "y_val = [item[1] for item in val_data]      # Labels"
   ]
  }
 ],
 "metadata": {
  "kernelspec": {
   "display_name": "Python 3 (ipykernel)",
   "language": "python",
   "name": "python3"
  },
  "language_info": {
   "codemirror_mode": {
    "name": "ipython",
    "version": 3
   },
   "file_extension": ".py",
   "mimetype": "text/x-python",
   "name": "python",
   "nbconvert_exporter": "python",
   "pygments_lexer": "ipython3",
   "version": "3.12.7"
  }
 },
 "nbformat": 4,
 "nbformat_minor": 2
}
