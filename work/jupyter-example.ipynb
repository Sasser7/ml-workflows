{
 "cells": [
  {
   "cell_type": "markdown",
   "metadata": {},
   "source": [
    "<div align=center>\n",
    "\n",
    "# Example Jupyter Notebook\n",
    "\n",
    "</div>"
   ]
  },
  {
   "cell_type": "markdown",
   "metadata": {},
   "source": [
    "## Check if the kernel is up and working"
   ]
  },
  {
   "cell_type": "code",
   "execution_count": null,
   "metadata": {},
   "outputs": [],
   "source": [
    "print(\"Kernel works!\")"
   ]
  },
  {
   "cell_type": "markdown",
   "metadata": {},
   "source": [
    "### Import required packages"
   ]
  },
  {
   "cell_type": "code",
   "execution_count": 29,
   "metadata": {},
   "outputs": [],
   "source": [
    "import matplotlib.pyplot as plt\n",
    "from pathlib import Path\n",
    "import pandas as pd\n",
    "import torch"
   ]
  },
  {
   "cell_type": "markdown",
   "metadata": {},
   "source": [
    "## Perform basic operations to test installed packages"
   ]
  },
  {
   "cell_type": "code",
   "execution_count": null,
   "metadata": {},
   "outputs": [],
   "source": [
    "# Print PyTorch version\n",
    "print(f\"PyTorch version: {torch.__version__}\")\n",
    "\n",
    "# Check if GPU is available\n",
    "gpu_available = torch.cuda.is_available()\n",
    "\n",
    "if gpu_available:\n",
    "    print(\"GPUs are available!\")\n",
    "    print(\"Amount of available GPUs:\", torch.cuda.device_count())\n",
    "    for i in range(torch.cuda.device_count()):\n",
    "        print(f\"GPU {i} name:\", torch.cuda.get_device_name(i))\n",
    "else:\n",
    "    print(\"GPU is not available. Will use CPU instead\")"
   ]
  },
  {
   "cell_type": "markdown",
   "metadata": {},
   "source": [
    "## Setup the workflow\n",
    "<div align=center>\n",
    "\n",
    "![pytorch_workflow](pytorch_workflow.png)\n",
    "\n",
    "</div>"
   ]
  },
  {
   "cell_type": "markdown",
   "metadata": {},
   "source": [
    "### 1. Get data ready"
   ]
  },
  {
   "cell_type": "markdown",
   "metadata": {},
   "source": [
    "#### Define a plotting function"
   ]
  },
  {
   "cell_type": "code",
   "execution_count": 31,
   "metadata": {},
   "outputs": [],
   "source": [
    "def plot_data(train_data, test_data, train_labels, test_labels, title, predictions=None):\n",
    "    \"\"\"\n",
    "    Plots a given function.\n",
    "\n",
    "    Parameters:\n",
    "        func: A function to plot (takes a numpy array as input).\n",
    "        title: Title of the plot.\n",
    "        x_range: Tuple indicating the range of x values (default is (-10, 10)).\n",
    "        num_points: Number of points to plot (default is 100).\n",
    "    \"\"\"\n",
    "\n",
    "    # Set the font to be JetBrains Mono\n",
    "    font_path = Path(\"../fonts/JetBrainsMono-Regular.ttf\")\n",
    "\n",
    "    # Set the dark mode\n",
    "    plt.style.use('dark_background')\n",
    "\n",
    "    # Create the plot\n",
    "    plt.figure(figsize=(10, 6))\n",
    "    plt.plot(train_data, train_labels, c=\"green\", label=\"Training data\")\n",
    "    plt.scatter(train_data, train_labels, c=\"green\")\n",
    "\n",
    "    plt.plot(test_data, test_labels, c=\"orange\", label=\"Testing data\")\n",
    "    plt.scatter(test_data, test_labels, c=\"orange\")\n",
    "\n",
    "    if predictions is not None:\n",
    "        plt.plot(test_data, predictions, c=\"red\", label=\"Model predictions\")\n",
    "        plt.scatter(test_data, predictions, c=\"red\")\n",
    "\n",
    "    # Setting up axes\n",
    "    plt.title(title, font=font_path, fontsize=16)\n",
    "    plt.xlabel('X', font=font_path, fontsize=14)\n",
    "    plt.ylabel('Y', font=font_path, fontsize=14)\n",
    "\n",
    "    # Add grid and axes lines\n",
    "    plt.axhline(0, color='white', lw=0.5, ls='--')\n",
    "    plt.axvline(0, color='white', lw=0.5, ls='--')\n",
    "    plt.grid(color='gray', linestyle='--', linewidth=0.5)\n",
    "\n",
    "    # Customize ticks\n",
    "    plt.xticks(font=font_path)\n",
    "    plt.yticks(font=font_path)\n",
    "\n",
    "    # Add a legend\n",
    "    plt.legend(prop=font_path)"
   ]
  },
  {
   "cell_type": "markdown",
   "metadata": {},
   "source": [
    "#### Generate example data"
   ]
  },
  {
   "cell_type": "code",
   "execution_count": null,
   "metadata": {},
   "outputs": [],
   "source": [
    "# Set the random seed for reproducibility\n",
    "torch.manual_seed(42)\n",
    "\n",
    "# Number of samples\n",
    "num_samples = 42\n",
    "\n",
    "# Generate random input features (x) and corresponding labels (y)\n",
    "X = torch.linspace(0, 1, num_samples).unsqueeze(1)  # Shape (25, 1)\n",
    "# Let's assume a linear relationship: y = 0.7 * x + 0.3\n",
    "y = 0.7 * X + 0.3\n",
    "\n",
    "data_df = pd.DataFrame({'X': X.numpy().flatten(), 'y': y.numpy().flatten()})\n",
    "\n",
    "# Create train/test split\n",
    "train_split = int(0.5 * len(X))  # 50% of data used for training set, 50% for testing\n",
    "X_train, y_train = X[:train_split], y[:train_split]\n",
    "X_test, y_test = X[train_split:], y[train_split:]\n",
    "\n",
    "# Convert to pandas DataFrame\n",
    "train_df = pd.DataFrame({'X': X_train.numpy().flatten(), 'y': y_train.numpy().flatten()})\n",
    "test_df = pd.DataFrame({'X': X_test.numpy().flatten(), 'y': y_test.numpy().flatten()})\n",
    "\n",
    "data_df"
   ]
  },
  {
   "cell_type": "markdown",
   "metadata": {},
   "source": [
    "### 2. Build a model"
   ]
  },
  {
   "cell_type": "markdown",
   "metadata": {},
   "source": [
    "#### Build a model class"
   ]
  },
  {
   "cell_type": "code",
   "execution_count": 33,
   "metadata": {},
   "outputs": [],
   "source": [
    "class LinearRegressionModel(torch.nn.Module):\n",
    "    def __init__(self):\n",
    "        super().__init__()\n",
    "        self.weights = torch.nn.Parameter(torch.randn(1))\n",
    "        self.bias = torch.nn.Parameter(torch.randn(1))\n",
    "    def forward(self, x: torch.Tensor) -> torch.Tensor:\n",
    "        return self.weights * x + self.bias"
   ]
  },
  {
   "cell_type": "markdown",
   "metadata": {},
   "source": [
    "#### Build a training loop"
   ]
  },
  {
   "cell_type": "code",
   "execution_count": null,
   "metadata": {},
   "outputs": [],
   "source": [
    "class Color:\n",
    "    RED = '\\033[91m'\n",
    "    ORANGE = '\\033[93m'\n",
    "    GREEN = '\\033[92m'\n",
    "    RESET = '\\033[0m'\n",
    "\n",
    "# Initialize model, loss function, optimizer, and scheduler\n",
    "model = LinearRegressionModel()\n",
    "criterion = torch.nn.L1Loss()\n",
    "optimizer = torch.optim.Adam(model.parameters(), lr=0.1)\n",
    "scheduler = torch.optim.lr_scheduler.ReduceLROnPlateau(optimizer, mode='min', factor=0.5, patience=10)\n",
    "\n",
    "epochs = 2**10\n",
    "interval = max(1, epochs // 10000)\n",
    "thresholds = [0.01, 0.1]  # 95% and 50% thresholds\n",
    "\n",
    "for epoch in range(epochs):\n",
    "    model.train()\n",
    "    loss = criterion(model(X_test), y_test)\n",
    "\n",
    "    # Color assignment based on loss\n",
    "    if loss.item() < thresholds[0]:\n",
    "        loss_color = Color.GREEN\n",
    "    elif loss.item() < thresholds[1]:\n",
    "        loss_color = Color.ORANGE\n",
    "    else:\n",
    "        loss_color = Color.RED\n",
    "\n",
    "    if epoch % interval == 0:\n",
    "        print(f\"epoch: {epoch} ({(epoch + 1) / epochs * 100:.2f}% complete) | loss: {loss_color}{loss.item():.12f}{Color.RESET}\")\n",
    "\n",
    "    optimizer.zero_grad()\n",
    "    loss.backward()\n",
    "    optimizer.step()\n",
    "    scheduler.step(loss.item())"
   ]
  },
  {
   "cell_type": "markdown",
   "metadata": {},
   "source": [
    "#### View model prediction performance"
   ]
  },
  {
   "cell_type": "code",
   "execution_count": null,
   "metadata": {},
   "outputs": [],
   "source": [
    "with torch.inference_mode():\n",
    "    y_preds = model(X_test)\n",
    "plot_data(X_train, X_test, y_train, y_test, \"Model performance\", y_preds)"
   ]
  }
 ],
 "metadata": {
  "kernelspec": {
   "display_name": "Python 3 (ipykernel)",
   "language": "python",
   "name": "python3"
  },
  "language_info": {
   "codemirror_mode": {
    "name": "ipython",
    "version": 3
   },
   "file_extension": ".py",
   "mimetype": "text/x-python",
   "name": "python",
   "nbconvert_exporter": "python",
   "pygments_lexer": "ipython3",
   "version": "3.12.7"
  }
 },
 "nbformat": 4,
 "nbformat_minor": 2
}
